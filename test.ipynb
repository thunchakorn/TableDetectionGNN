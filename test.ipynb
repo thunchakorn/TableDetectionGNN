{
 "metadata": {
  "language_info": {
   "codemirror_mode": {
    "name": "ipython",
    "version": 3
   },
   "file_extension": ".py",
   "mimetype": "text/x-python",
   "name": "python",
   "nbconvert_exporter": "python",
   "pygments_lexer": "ipython3",
   "version": "3.7.6-final"
  },
  "orig_nbformat": 2,
  "kernelspec": {
   "name": "Python 3.7.6 64-bit",
   "display_name": "Python 3.7.6 64-bit",
   "metadata": {
    "interpreter": {
     "hash": "9233fd154c4a7151ae8e21aa87e9241bfb6a5e80c8b622d1630531169c9f1abc"
    }
   }
  }
 },
 "nbformat": 4,
 "nbformat_minor": 2,
 "cells": [
  {
   "cell_type": "code",
   "execution_count": 2,
   "metadata": {},
   "outputs": [],
   "source": [
    "import torch\n",
    "import shutil\n",
    "import os\n",
    "import os.path as osp\n",
    "import glob\n",
    "import json\n",
    "\n",
    "import time\n",
    "import cv2\n",
    "import seaborn as sns\n",
    "import numpy as np\n",
    "import pandas as pd\n",
    "from shapely.geometry.polygon import Polygon\n",
    "from shapely.geometry import Point\n",
    "from grapher_coco import GraphOCR"
   ]
  },
  {
   "cell_type": "code",
   "execution_count": 3,
   "metadata": {},
   "outputs": [],
   "source": [
    "from kora.hub import embed"
   ]
  },
  {
   "cell_type": "code",
   "execution_count": 10,
   "metadata": {},
   "outputs": [],
   "source": [
    "def plot_similarity(labels, features, rotation):\n",
    "    corr = np.inner(features, features)\n",
    "    sns.set(font_scale=1.2)\n",
    "    g = sns.heatmap(\n",
    "        corr,\n",
    "        xticklabels=labels,\n",
    "        yticklabels=labels,\n",
    "        vmin=0,\n",
    "        vmax=1,\n",
    "        cmap=\"YlOrRd\")\n",
    "    g.set_xticklabels(labels, rotation=rotation)\n",
    "    g.set_title(\"Semantic Textual Similarity\")\n",
    "\n",
    "def run_and_plot(messages_):\n",
    "  message_embeddings_ = embed(messages_)\n",
    "  plot_similarity(messages_, message_embeddings_, 90)"
   ]
  },
  {
   "cell_type": "code",
   "execution_count": 11,
   "metadata": {},
   "outputs": [],
   "source": [
    "from pythainlp.util import normalize"
   ]
  },
  {
   "cell_type": "code",
   "execution_count": 16,
   "metadata": {},
   "outputs": [
    {
     "output_type": "stream",
     "name": "stdout",
     "text": [
      "12\n5\n"
     ]
    }
   ],
   "source": [
    "a = \"สุนััััััััข\"\n",
    "print(len(a))\n",
    "b = normalize('สุนััััับ')\n",
    "print(len(b))"
   ]
  },
  {
   "cell_type": "code",
   "execution_count": 17,
   "metadata": {},
   "outputs": [],
   "source": [
    "from pythainlp import spell"
   ]
  },
  {
   "cell_type": "code",
   "execution_count": 21,
   "metadata": {},
   "outputs": [
    {
     "output_type": "execute_result",
     "data": {
      "text/plain": [
       "['สุนัข', 'สนั่น', 'สนับ', 'นั่บ']"
      ]
     },
     "metadata": {},
     "execution_count": 21
    }
   ],
   "source": [
    "a = 'สุนั่บ'\n",
    "spell(a)"
   ]
  },
  {
   "cell_type": "code",
   "execution_count": 31,
   "metadata": {},
   "outputs": [],
   "source": [
    "from pythainlp.util import bahttext\n",
    "from pythainlp.util import thaiword_to_num\n",
    "import pythainlp as p"
   ]
  },
  {
   "cell_type": "code",
   "execution_count": 35,
   "metadata": {},
   "outputs": [
    {
     "output_type": "stream",
     "name": "stdout",
     "text": [
      "thai_consonants    กขฃคฅฆงจฉชซฌญฎฏฐฑฒณดตถทธนบปผฝพฟภมยรลวศษสหฬอฮ\nthai_vowels        ฤฦะัาำิีึืุูเแโใไๅํ็\nthai_lead_vowels.  เแโใไ\nthai_follow_vowels ะาำๅ\nthai_above_vowels. ัิีึืํ็\nthai_below_vowels  ุู\nthai_tonemarks     ่้๊๋\nthai_signs         ฯฺๆ์ํ๎\nthai_letters.      กขฃคฅฆงจฉชซฌญฎฏฐฑฒณดตถทธนบปผฝพฟภมยรลวศษสหฬอฮฤฦะัาำิีึืุูเแโใไๅํ็่้๊๋ฯฺๆ์ํ๎\nthai_punctuations  ๏๚๛\n"
     ]
    }
   ],
   "source": [
    "print(f'thai_consonants    {p.thai_consonants}')\n",
    "print(f'thai_vowels        {p.thai_vowels}')\n",
    "print(f'thai_lead_vowels.  {p.thai_lead_vowels}')\n",
    "print(f'thai_follow_vowels {p.thai_follow_vowels}')\n",
    "print(f'thai_above_vowels. {p.thai_above_vowels}')\n",
    "print(f'thai_below_vowels  {p.thai_below_vowels}')\n",
    "print(f'thai_tonemarks     {p.thai_tonemarks}')\n",
    "print(f'thai_signs         {p.thai_signs}')\n",
    "print(f'thai_letters.      {p.thai_letters}')\n",
    "print(f'thai_punctuations  {p.thai_punctuations}')"
   ]
  },
  {
   "cell_type": "code",
   "execution_count": null,
   "metadata": {},
   "outputs": [],
   "source": [
    "thai_consonants\n",
    "thai_vowels\n",
    "thai_tonemark\n",
    "thai_signs"
   ]
  }
 ]
}