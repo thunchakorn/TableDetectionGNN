{
 "cells": [
  {
   "cell_type": "code",
   "execution_count": 18,
   "metadata": {},
   "outputs": [],
   "source": [
    "import numpy as np\n",
    "import matplotlib.pyplot as plt"
   ]
  },
  {
   "cell_type": "code",
   "execution_count": 19,
   "metadata": {},
   "outputs": [],
   "source": [
    "def get_angle(a, b, mode = 'hori'):\n",
    "    \"\"\"Get angle of 2 points in image\n",
    "    param a: point a with shape (n,2)\n",
    "    param b: point a with shape (n,2)\n",
    "    param mode: 2 mode to choose {'hori', 'verti'}\n",
    "    return: angle in radian with shape (n, )\n",
    "    \"\"\"\n",
    "    if mode == 'hori':\n",
    "        numerator = (b[:,1] - a[:,1])\n",
    "        denominator = (b[:,0] - a[:,0])\n",
    "    elif mode == 'verti':\n",
    "        numerator = (b[:,0] - a[:,0])\n",
    "        denominator = (b[:,1] - a[:,1])\n",
    "    return np.arctan2(numerator, denominator)/np.pi*180\n",
    "\n",
    "def get_inv_dist(a, b, h, w):\n",
    "    \"\"\"Get inverse distance of 2 points in image\n",
    "    param a: point a with shape (n,2)\n",
    "    param b: point a with shape (n,2)\n",
    "    param h: height of image\n",
    "    param w: width of image\n",
    "    return: inverse distance with shape (n, )\n",
    "    \"\"\"\n",
    "    max_dist = np.hypot(h,w)\n",
    "    dist = np.linalg.norm(a-b, axis = 1)\n",
    "    inv_dist = (max_dist - dist)/max_dist\n",
    "    return inv_dist"
   ]
  },
  {
   "cell_type": "code",
   "execution_count": 20,
   "metadata": {},
   "outputs": [
    {
     "name": "stdout",
     "output_type": "stream",
     "text": [
      "[   0.  -90. -135.] [0.97171573 0.98585786 0.47      ]\n"
     ]
    }
   ],
   "source": [
    "a = np.array([[1,1],[2,2], [3,3]])\n",
    "b = np.array([[1,5],[0,2], [-50,-50]])\n",
    "print(get_angle(a,b, 'verti'), get_inv_dist(a,b,100,100))"
   ]
  },
  {
   "cell_type": "code",
   "execution_count": 21,
   "metadata": {},
   "outputs": [],
   "source": [
    "#left_top, right_top, left_bottom, right_bottom\n",
    "src_points = np.array([[0,2],[2,2],[0,0],[2,0]])\n",
    "dst_points = np.array([[4,3],[6,3],[4,1],[6,1]])"
   ]
  },
  {
   "cell_type": "code",
   "execution_count": 22,
   "metadata": {},
   "outputs": [],
   "source": [
    "src_pair = np.repeat(src_points,4,axis=0)\n",
    "dst_pair = np.tile(dst_points, (4,1))"
   ]
  },
  {
   "cell_type": "code",
   "execution_count": 39,
   "metadata": {},
   "outputs": [],
   "source": [
    "a = get_angle(src_pair, dst_pair)"
   ]
  },
  {
   "cell_type": "code",
   "execution_count": 40,
   "metadata": {},
   "outputs": [],
   "source": [
    "b = get_inv_dist(src_pair, dst_pair, 10,10)"
   ]
  },
  {
   "cell_type": "code",
   "execution_count": 41,
   "metadata": {},
   "outputs": [],
   "source": [
    "k = []"
   ]
  },
  {
   "cell_type": "code",
   "execution_count": 43,
   "metadata": {},
   "outputs": [],
   "source": [
    "k.append(np.concatenate((a,b, [0])))"
   ]
  },
  {
   "cell_type": "code",
   "execution_count": 46,
   "metadata": {},
   "outputs": [],
   "source": [
    "x = np.array(k)"
   ]
  },
  {
   "cell_type": "code",
   "execution_count": 47,
   "metadata": {},
   "outputs": [],
   "source": [
    "y = np.array(k)"
   ]
  },
  {
   "cell_type": "code",
   "execution_count": 54,
   "metadata": {},
   "outputs": [
    {
     "data": {
      "text/plain": [
       "(4, 33)"
      ]
     },
     "execution_count": 54,
     "metadata": {},
     "output_type": "execute_result"
    }
   ],
   "source": [
    "np.concatenate((x,y)).shape"
   ]
  },
  {
   "cell_type": "code",
   "execution_count": 56,
   "metadata": {},
   "outputs": [
    {
     "data": {
      "text/plain": [
       "array([[ 14.03624347,   9.46232221, -14.03624347,  -9.46232221,\n",
       "         26.56505118,  14.03624347, -26.56505118, -14.03624347,\n",
       "         36.86989765,  26.56505118,  14.03624347,   9.46232221,\n",
       "         56.30993247,  36.86989765,  26.56505118,  14.03624347,\n",
       "          0.70845241,   0.56988374,   0.70845241,   0.56988374,\n",
       "          0.84188612,   0.70845241,   0.84188612,   0.70845241,\n",
       "          0.64644661,   0.52565835,   0.70845241,   0.56988374,\n",
       "          0.74504902,   0.64644661,   0.84188612,   0.70845241,\n",
       "          0.        ],\n",
       "       [ 14.03624347,   9.46232221, -14.03624347,  -9.46232221,\n",
       "         26.56505118,  14.03624347, -26.56505118, -14.03624347,\n",
       "         36.86989765,  26.56505118,  14.03624347,   9.46232221,\n",
       "         56.30993247,  36.86989765,  26.56505118,  14.03624347,\n",
       "          0.70845241,   0.56988374,   0.70845241,   0.56988374,\n",
       "          0.84188612,   0.70845241,   0.84188612,   0.70845241,\n",
       "          0.64644661,   0.52565835,   0.70845241,   0.56988374,\n",
       "          0.74504902,   0.64644661,   0.84188612,   0.70845241,\n",
       "          0.        ],\n",
       "       [ 14.03624347,   9.46232221, -14.03624347,  -9.46232221,\n",
       "         26.56505118,  14.03624347, -26.56505118, -14.03624347,\n",
       "         36.86989765,  26.56505118,  14.03624347,   9.46232221,\n",
       "         56.30993247,  36.86989765,  26.56505118,  14.03624347,\n",
       "          0.70845241,   0.56988374,   0.70845241,   0.56988374,\n",
       "          0.84188612,   0.70845241,   0.84188612,   0.70845241,\n",
       "          0.64644661,   0.52565835,   0.70845241,   0.56988374,\n",
       "          0.74504902,   0.64644661,   0.84188612,   0.70845241,\n",
       "          0.        ],\n",
       "       [ 14.03624347,   9.46232221, -14.03624347,  -9.46232221,\n",
       "         26.56505118,  14.03624347, -26.56505118, -14.03624347,\n",
       "         36.86989765,  26.56505118,  14.03624347,   9.46232221,\n",
       "         56.30993247,  36.86989765,  26.56505118,  14.03624347,\n",
       "          0.70845241,   0.56988374,   0.70845241,   0.56988374,\n",
       "          0.84188612,   0.70845241,   0.84188612,   0.70845241,\n",
       "          0.64644661,   0.52565835,   0.70845241,   0.56988374,\n",
       "          0.74504902,   0.64644661,   0.84188612,   0.70845241,\n",
       "          0.        ]])"
      ]
     },
     "execution_count": 56,
     "metadata": {},
     "output_type": "execute_result"
    }
   ],
   "source": [
    "np.append(x,y,axis = 0)"
   ]
  },
  {
   "cell_type": "code",
   "execution_count": 1,
   "metadata": {},
   "outputs": [],
   "source": [
    "from RVL_parser import RVL_Parser"
   ]
  },
  {
   "cell_type": "code",
   "execution_count": 2,
   "metadata": {},
   "outputs": [],
   "source": [
    "p = RVL_Parser('RVL-Dataset/')"
   ]
  },
  {
   "cell_type": "code",
   "execution_count": 34,
   "metadata": {},
   "outputs": [],
   "source": [
    "a = 3"
   ]
  },
  {
   "cell_type": "code",
   "execution_count": 35,
   "metadata": {},
   "outputs": [],
   "source": [
    "b = 3 if a ==2 else 4"
   ]
  },
  {
   "cell_type": "code",
   "execution_count": 36,
   "metadata": {},
   "outputs": [
    {
     "data": {
      "text/plain": [
       "4"
      ]
     },
     "execution_count": 36,
     "metadata": {},
     "output_type": "execute_result"
    }
   ],
   "source": [
    "b"
   ]
  },
  {
   "cell_type": "code",
   "execution_count": 14,
   "metadata": {},
   "outputs": [
    {
     "data": {
      "text/plain": [
       "112"
      ]
     },
     "execution_count": 14,
     "metadata": {},
     "output_type": "execute_result"
    }
   ],
   "source": [
    "df.loc[22,:]['xmin']"
   ]
  },
  {
   "cell_type": "code",
   "execution_count": 11,
   "metadata": {},
   "outputs": [
    {
     "data": {
      "text/html": [
       "<div>\n",
       "<style scoped>\n",
       "    .dataframe tbody tr th:only-of-type {\n",
       "        vertical-align: middle;\n",
       "    }\n",
       "\n",
       "    .dataframe tbody tr th {\n",
       "        vertical-align: top;\n",
       "    }\n",
       "\n",
       "    .dataframe thead th {\n",
       "        text-align: right;\n",
       "    }\n",
       "</style>\n",
       "<table border=\"1\" class=\"dataframe\">\n",
       "  <thead>\n",
       "    <tr style=\"text-align: right;\">\n",
       "      <th></th>\n",
       "      <th>xmin</th>\n",
       "      <th>ymin</th>\n",
       "      <th>xmax</th>\n",
       "      <th>ymax</th>\n",
       "      <th>xmin_norm</th>\n",
       "      <th>ymin_norm</th>\n",
       "      <th>xmax_norm</th>\n",
       "      <th>ymax_norm</th>\n",
       "      <th>text</th>\n",
       "      <th>label</th>\n",
       "      <th>xcen</th>\n",
       "      <th>ycen</th>\n",
       "    </tr>\n",
       "  </thead>\n",
       "  <tbody>\n",
       "    <tr>\n",
       "      <th>22</th>\n",
       "      <td>112</td>\n",
       "      <td>183</td>\n",
       "      <td>130</td>\n",
       "      <td>191</td>\n",
       "      <td>0.112</td>\n",
       "      <td>0.240157</td>\n",
       "      <td>0.130</td>\n",
       "      <td>0.250656</td>\n",
       "      <td>101</td>\n",
       "      <td>receiver</td>\n",
       "      <td>121.0</td>\n",
       "      <td>187.0</td>\n",
       "    </tr>\n",
       "    <tr>\n",
       "      <th>18</th>\n",
       "      <td>112</td>\n",
       "      <td>169</td>\n",
       "      <td>138</td>\n",
       "      <td>178</td>\n",
       "      <td>0.112</td>\n",
       "      <td>0.221785</td>\n",
       "      <td>0.138</td>\n",
       "      <td>0.233596</td>\n",
       "      <td>3000</td>\n",
       "      <td>receiver</td>\n",
       "      <td>125.0</td>\n",
       "      <td>173.5</td>\n",
       "    </tr>\n",
       "    <tr>\n",
       "      <th>13</th>\n",
       "      <td>112</td>\n",
       "      <td>155</td>\n",
       "      <td>145</td>\n",
       "      <td>162</td>\n",
       "      <td>0.112</td>\n",
       "      <td>0.203412</td>\n",
       "      <td>0.145</td>\n",
       "      <td>0.212598</td>\n",
       "      <td>Brown</td>\n",
       "      <td>receiver</td>\n",
       "      <td>128.5</td>\n",
       "      <td>158.5</td>\n",
       "    </tr>\n",
       "    <tr>\n",
       "      <th>29</th>\n",
       "      <td>112</td>\n",
       "      <td>211</td>\n",
       "      <td>150</td>\n",
       "      <td>219</td>\n",
       "      <td>0.112</td>\n",
       "      <td>0.276903</td>\n",
       "      <td>0.150</td>\n",
       "      <td>0.287402</td>\n",
       "      <td>U.S.A.</td>\n",
       "      <td>receiver</td>\n",
       "      <td>131.0</td>\n",
       "      <td>215.0</td>\n",
       "    </tr>\n",
       "    <tr>\n",
       "      <th>30</th>\n",
       "      <td>111</td>\n",
       "      <td>233</td>\n",
       "      <td>173</td>\n",
       "      <td>242</td>\n",
       "      <td>0.111</td>\n",
       "      <td>0.305774</td>\n",
       "      <td>0.173</td>\n",
       "      <td>0.317585</td>\n",
       "      <td>Attention</td>\n",
       "      <td>receiver</td>\n",
       "      <td>142.0</td>\n",
       "      <td>237.5</td>\n",
       "    </tr>\n",
       "    <tr>\n",
       "      <th>...</th>\n",
       "      <td>...</td>\n",
       "      <td>...</td>\n",
       "      <td>...</td>\n",
       "      <td>...</td>\n",
       "      <td>...</td>\n",
       "      <td>...</td>\n",
       "      <td>...</td>\n",
       "      <td>...</td>\n",
       "      <td>...</td>\n",
       "      <td>...</td>\n",
       "      <td>...</td>\n",
       "      <td>...</td>\n",
       "    </tr>\n",
       "    <tr>\n",
       "      <th>50</th>\n",
       "      <td>517</td>\n",
       "      <td>197</td>\n",
       "      <td>523</td>\n",
       "      <td>205</td>\n",
       "      <td>0.517</td>\n",
       "      <td>0.258530</td>\n",
       "      <td>0.523</td>\n",
       "      <td>0.269029</td>\n",
       "      <td>N</td>\n",
       "      <td>invoice_info</td>\n",
       "      <td>520.0</td>\n",
       "      <td>201.0</td>\n",
       "    </tr>\n",
       "    <tr>\n",
       "      <th>55</th>\n",
       "      <td>518</td>\n",
       "      <td>213</td>\n",
       "      <td>566</td>\n",
       "      <td>224</td>\n",
       "      <td>0.518</td>\n",
       "      <td>0.279528</td>\n",
       "      <td>0.566</td>\n",
       "      <td>0.293963</td>\n",
       "      <td>26.5.02</td>\n",
       "      <td>invoice_info</td>\n",
       "      <td>542.0</td>\n",
       "      <td>218.5</td>\n",
       "    </tr>\n",
       "    <tr>\n",
       "      <th>51</th>\n",
       "      <td>532</td>\n",
       "      <td>196</td>\n",
       "      <td>558</td>\n",
       "      <td>206</td>\n",
       "      <td>0.532</td>\n",
       "      <td>0.257218</td>\n",
       "      <td>0.558</td>\n",
       "      <td>0.270341</td>\n",
       "      <td>I8l6</td>\n",
       "      <td>invoice_info</td>\n",
       "      <td>545.0</td>\n",
       "      <td>201.0</td>\n",
       "    </tr>\n",
       "    <tr>\n",
       "      <th>40</th>\n",
       "      <td>536</td>\n",
       "      <td>160</td>\n",
       "      <td>572</td>\n",
       "      <td>169</td>\n",
       "      <td>0.536</td>\n",
       "      <td>0.209974</td>\n",
       "      <td>0.572</td>\n",
       "      <td>0.221785</td>\n",
       "      <td>Wokir.*</td>\n",
       "      <td>supplier</td>\n",
       "      <td>554.0</td>\n",
       "      <td>164.5</td>\n",
       "    </tr>\n",
       "    <tr>\n",
       "      <th>82</th>\n",
       "      <td>588</td>\n",
       "      <td>385</td>\n",
       "      <td>672</td>\n",
       "      <td>397</td>\n",
       "      <td>0.588</td>\n",
       "      <td>0.505249</td>\n",
       "      <td>0.672</td>\n",
       "      <td>0.520997</td>\n",
       "      <td>US#13,600.00</td>\n",
       "      <td>positions</td>\n",
       "      <td>630.0</td>\n",
       "      <td>391.0</td>\n",
       "    </tr>\n",
       "  </tbody>\n",
       "</table>\n",
       "<p>83 rows × 12 columns</p>\n",
       "</div>"
      ],
      "text/plain": [
       "    xmin  ymin  xmax  ymax  xmin_norm  ymin_norm  xmax_norm  ymax_norm  \\\n",
       "22   112   183   130   191      0.112   0.240157      0.130   0.250656   \n",
       "18   112   169   138   178      0.112   0.221785      0.138   0.233596   \n",
       "13   112   155   145   162      0.112   0.203412      0.145   0.212598   \n",
       "29   112   211   150   219      0.112   0.276903      0.150   0.287402   \n",
       "30   111   233   173   242      0.111   0.305774      0.173   0.317585   \n",
       "..   ...   ...   ...   ...        ...        ...        ...        ...   \n",
       "50   517   197   523   205      0.517   0.258530      0.523   0.269029   \n",
       "55   518   213   566   224      0.518   0.279528      0.566   0.293963   \n",
       "51   532   196   558   206      0.532   0.257218      0.558   0.270341   \n",
       "40   536   160   572   169      0.536   0.209974      0.572   0.221785   \n",
       "82   588   385   672   397      0.588   0.505249      0.672   0.520997   \n",
       "\n",
       "            text         label   xcen   ycen  \n",
       "22           101      receiver  121.0  187.0  \n",
       "18          3000      receiver  125.0  173.5  \n",
       "13         Brown      receiver  128.5  158.5  \n",
       "29        U.S.A.      receiver  131.0  215.0  \n",
       "30     Attention      receiver  142.0  237.5  \n",
       "..           ...           ...    ...    ...  \n",
       "50             N  invoice_info  520.0  201.0  \n",
       "55       26.5.02  invoice_info  542.0  218.5  \n",
       "51          I8l6  invoice_info  545.0  201.0  \n",
       "40       Wokir.*      supplier  554.0  164.5  \n",
       "82  US#13,600.00     positions  630.0  391.0  \n",
       "\n",
       "[83 rows x 12 columns]"
      ]
     },
     "execution_count": 11,
     "metadata": {},
     "output_type": "execute_result"
    }
   ],
   "source": [
    "df"
   ]
  },
  {
   "cell_type": "code",
   "execution_count": null,
   "metadata": {},
   "outputs": [],
   "source": []
  }
 ],
 "metadata": {
  "kernelspec": {
   "display_name": "Python 3",
   "language": "python",
   "name": "python3"
  },
  "language_info": {
   "codemirror_mode": {
    "name": "ipython",
    "version": 3
   },
   "file_extension": ".py",
   "mimetype": "text/x-python",
   "name": "python",
   "nbconvert_exporter": "python",
   "pygments_lexer": "ipython3",
   "version": "3.7.6"
  }
 },
 "nbformat": 4,
 "nbformat_minor": 4
}
